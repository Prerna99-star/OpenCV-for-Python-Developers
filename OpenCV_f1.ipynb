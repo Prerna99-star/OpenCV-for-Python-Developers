{
  "nbformat": 4,
  "nbformat_minor": 0,
  "metadata": {
    "colab": {
      "name": "OpenCV f1.ipynb",
      "provenance": [],
      "authorship_tag": "ABX9TyNfNRRjNlj+aKgwf4tQN3Z3",
      "include_colab_link": true
    },
    "kernelspec": {
      "name": "python3",
      "display_name": "Python 3"
    },
    "accelerator": "GPU"
  },
  "cells": [
    {
      "cell_type": "markdown",
      "metadata": {
        "id": "view-in-github",
        "colab_type": "text"
      },
      "source": [
        "<a href=\"https://colab.research.google.com/github/Prerna99-star/OpenCV-for-Python-Developers/blob/master/OpenCV_f1.ipynb\" target=\"_parent\"><img src=\"https://colab.research.google.com/assets/colab-badge.svg\" alt=\"Open In Colab\"/></a>"
      ]
    },
    {
      "cell_type": "code",
      "metadata": {
        "id": "wbH4s3mI1qMG",
        "colab_type": "code",
        "colab": {}
      },
      "source": [
        "import numpy as np\n",
        "import cv2"
      ],
      "execution_count": 0,
      "outputs": []
    },
    {
      "cell_type": "code",
      "metadata": {
        "id": "84I1VEyk1wwY",
        "colab_type": "code",
        "outputId": "0d73b965-bf9c-4e0b-a3ac-f6d4c4f2805c",
        "colab": {
          "base_uri": "https://localhost:8080/",
          "height": 184
        }
      },
      "source": [
        "black = np.zeros([150, 200, 1], 'uint8')\n",
        "from google.colab.patches import cv2_imshow\n",
        "cv2_imshow(black)\n",
        "print(black[0, 0, :])"
      ],
      "execution_count": 2,
      "outputs": [
        {
          "output_type": "display_data",
          "data": {
            "image/png": "[encoded data removed]",
            "text/plain": [
              "<PIL.Image.Image image mode=RGB size=200x150 at 0x7FAAFADB1470>"
            ]
          },
          "metadata": {
            "tags": []
          }
        },
        {
          "output_type": "stream",
          "text": [
            "[0]\n"
          ],
          "name": "stdout"
        }
      ]
    },
    {
      "cell_type": "code",
      "metadata": {
        "id": "ede7TFl64zO7",
        "colab_type": "code",
        "colab": {
          "base_uri": "https://localhost:8080/",
          "height": 184
        },
        "outputId": "9a9f33f0-6110-4c0a-9920-fbcef9e1e7bd"
      },
      "source": [
        "ones = np.ones([150, 200, 3], 'uint8')\n",
        "from google.colab.patches import cv2_imshow\n",
        "cv2_imshow(ones)\n",
        "print(ones[0, 0, :])"
      ],
      "execution_count": 3,
      "outputs": [
        {
          "output_type": "display_data",
          "data": {
            "image/png": "[encoded data removed]",
            "text/plain": [
              "<PIL.Image.Image image mode=RGB size=200x150 at 0x7FAAFAC63CC0>"
            ]
          },
          "metadata": {
            "tags": []
          }
        },
        {
          "output_type": "stream",
          "text": [
            "[1 1 1]\n"
          ],
          "name": "stdout"
        }
      ]
    },
    {
      "cell_type": "code",
      "metadata": {
        "id": "vujd1QEq9cWZ",
        "colab_type": "code",
        "colab": {
          "base_uri": "https://localhost:8080/",
          "height": 184
        },
        "outputId": "777ec94d-46ec-4e66-dc64-a65cbe5401ef"
      },
      "source": [
        "white = np.ones([150, 200, 3], 'uint16')\n",
        "white *= (2**16-1)\n",
        "from google.colab.patches import cv2_imshow\n",
        "cv2_imshow(white)\n",
        "print(white[0, 0, :])"
      ],
      "execution_count": 4,
      "outputs": [
        {
          "output_type": "display_data",
          "data": {
            "image/png": "[encoded data removed]",
            "text/plain": [
              "<PIL.Image.Image image mode=RGB size=200x150 at 0x7FAAFAB42AC8>"
            ]
          },
          "metadata": {
            "tags": []
          }
        },
        {
          "output_type": "stream",
          "text": [
            "[65535 65535 65535]\n"
          ],
          "name": "stdout"
        }
      ]
    },
    {
      "cell_type": "code",
      "metadata": {
        "id": "eU7T0CnD-ODR",
        "colab_type": "code",
        "colab": {
          "base_uri": "https://localhost:8080/",
          "height": 184
        },
        "outputId": "3d86b633-073e-4be1-ca5c-c8cdcd48aaa6"
      },
      "source": [
        "color = ones.copy()\n",
        "color[:, :] = (255, 0, 0)\n",
        "from google.colab.patches import cv2_imshow\n",
        "cv2_imshow(color)\n",
        "print(color[0, 0, :])"
      ],
      "execution_count": 5,
      "outputs": [
        {
          "output_type": "display_data",
          "data": {
            "image/png": "[encoded data removed]",
            "text/plain": [
              "<PIL.Image.Image image mode=RGB size=200x150 at 0x7FAAFABCDE80>"
            ]
          },
          "metadata": {
            "tags": []
          }
        },
        {
          "output_type": "stream",
          "text": [
            "[255   0   0]\n"
          ],
          "name": "stdout"
        }
      ]
    },
    {
      "cell_type": "code",
      "metadata": {
        "id": "rsvUstIq3DcL",
        "colab_type": "code",
        "colab": {}
      },
      "source": [
        "cv2.waitKey(0)\n",
        "cv2.destroyAllWindows()"
      ],
      "execution_count": 0,
      "outputs": []
    }
  ]
}