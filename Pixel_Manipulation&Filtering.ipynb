{
  "nbformat": 4,
  "nbformat_minor": 0,
  "metadata": {
    "colab": {
      "name": "Pixel_Manipulation&Filtering.ipynb",
      "provenance": [],
      "authorship_tag": "ABX9TyPGeDJQmSWDDpHn+yrziJ63",
      "include_colab_link": true
    },
    "kernelspec": {
      "name": "python3",
      "display_name": "Python 3"
    },
    "accelerator": "GPU"
  },
  "cells": [
    {
      "cell_type": "markdown",
      "metadata": {
        "id": "view-in-github",
        "colab_type": "text"
      },
      "source": [
        "<a href=\"https://colab.research.google.com/github/Prerna99-star/OpenCV-for-Python-Developers/blob/master/Pixel_Manipulation%26Filtering.ipynb\" target=\"_parent\"><img src=\"https://colab.research.google.com/assets/colab-badge.svg\" alt=\"Open In Colab\"/></a>"
      ]
    },
    {
      "cell_type": "code",
      "metadata": {
        "id": "i39uyJDtJECe",
        "colab_type": "code",
        "colab": {}
      },
      "source": [
        "import numpy as np\n",
        "from matplotlib import pyplot as plt\n",
        "import cv2"
      ],
      "execution_count": 0,
      "outputs": []
    },
    {
      "cell_type": "code",
      "metadata": {
        "id": "ejiVLYm4Jwkd",
        "colab_type": "code",
        "colab": {
          "base_uri": "https://localhost:8080/",
          "height": 34
        },
        "outputId": "f62a3cbe-bbfd-4bb9-9bbc-fb6943841079"
      },
      "source": [
        "color = cv2.imread(\"butterfly.jpg\", 1)\n",
        "gray = cv2.cvtColor(color, cv2.COLOR_RGB2GRAY)\n",
        "cv2.imwrite(\"gray.jpg\", gray)\n",
        "\n",
        "b = color[:,:,0]\n",
        "g = color[:,:,1]\n",
        "r = color[:,:,2]\n",
        "\n",
        "rgba = cv2.merge((b,g,r,g))  #the fourth channel we are merging is called the transparent channel \n",
        "cv2.imwrite(\"rgba.png\", rgba)  #why we are using png? bcz .jpg do not support transparency hence using .png\n",
        "\n"
      ],
      "execution_count": 4,
      "outputs": [
        {
          "output_type": "execute_result",
          "data": {
            "text/plain": [
              "True"
            ]
          },
          "metadata": {
            "tags": []
          },
          "execution_count": 4
        }
      ]
    }
  ]
}